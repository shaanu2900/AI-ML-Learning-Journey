{
  "nbformat": 4,
  "nbformat_minor": 0,
  "metadata": {
    "colab": {
      "provenance": []
    },
    "kernelspec": {
      "name": "python3",
      "display_name": "Python 3"
    },
    "language_info": {
      "name": "python"
    }
  },
  "cells": [
    {
      "cell_type": "code",
      "execution_count": 3,
      "metadata": {
        "colab": {
          "base_uri": "https://localhost:8080/"
        },
        "id": "mKDa9jSdyYxx",
        "outputId": "583e6ed5-8e78-4340-e583-55b171ee6de1"
      },
      "outputs": [
        {
          "output_type": "stream",
          "name": "stdout",
          "text": [
            "Enter the first number: 34\n",
            "Enter the second number: 54\n",
            "What do you want to do with these numbers?\n",
            "1. Addition\n",
            "2. Subtraction\n",
            "3. Multiplication\n",
            "4. Division\n",
            "5. Floor Division\n",
            "6. Exponent\n",
            "7. Modulus\n",
            "Enter your choice: 7\n",
            "The remainder when 34 is divided by 54 is 34\n"
          ]
        }
      ],
      "source": [
        "#Calculator\n",
        "a = int(input(\"Enter the first number: \"))\n",
        "b = int(input(\"Enter the second number: \"))\n",
        "\n",
        "sum = a+b\n",
        "diff = a-b\n",
        "multi = a*b\n",
        "div = a/b\n",
        "floor_div = a//b\n",
        "exp = a**b\n",
        "mod = a%b\n",
        "\n",
        "print(\"What do you want to do with these numbers?\")\n",
        "print(\"1. Addition\")\n",
        "print(\"2. Subtraction\")\n",
        "print(\"3. Multiplication\")\n",
        "print(\"4. Division\")\n",
        "print(\"5. Floor Division\")\n",
        "print(\"6. Exponent\")\n",
        "print(\"7. Modulus\")\n",
        "\n",
        "choice = int(input(\"Enter your choice: \"))\n",
        "\n",
        "if choice == 1:\n",
        "    print(\"The sum of\", a, \"and\", b, \"is\", sum)\n",
        "elif choice == 2:\n",
        "    print(\"The difference of\", a, \"and\", b, \"is\", diff)\n",
        "elif choice == 3:\n",
        "    print(\"The product of\", a, \"and\", b, \"is\", multi)\n",
        "elif choice == 4:\n",
        "    print(\"The quotient of\", a, \"and\", b, \"is\", div)\n",
        "elif choice == 5:\n",
        "    print(\"The floor quotient of\", a, \"and\", b, \"is\", floor_div)\n",
        "elif choice == 6:\n",
        "    print(a, \"raised to the power of\", b, \"is\", exp)\n",
        "else :\n",
        "    print(\"The remainder when\", a, \"is divided by\", b, \"is\", mod)"
      ]
    },
    {
      "cell_type": "code",
      "source": [
        "#Calculator 2\n",
        "\n",
        "a = int(input(\"Enter the first number: \"))\n",
        "operator = input(\"Enter the operator ('+','-','/','*'): \")\n",
        "b = int(input(\"Enter the second number: \"))\n",
        "\n",
        "if operator == '+':\n",
        "    print(\"The sum of\", a, \"and\", b, \"is\", a+b)\n",
        "elif operator == '-':\n",
        "    print(\"The difference of\", a, \"and\", b, \"is\", a-b)\n",
        "elif operator == '*':\n",
        "    print(\"The product of\", a, \"and\", b, \"is\", a*b)\n",
        "elif operator == '/':\n",
        "    print(\"The quotient of\", a, \"and\", b, \"is\", a/b)\n",
        "else:\n",
        "    print(\"Invalid operator\")"
      ],
      "metadata": {
        "colab": {
          "base_uri": "https://localhost:8080/"
        },
        "id": "brUWwvv32Fov",
        "outputId": "c55e0594-1387-424f-b0f0-a01a4c062af9"
      },
      "execution_count": 5,
      "outputs": [
        {
          "output_type": "stream",
          "name": "stdout",
          "text": [
            "Enter the first number: 12\n",
            "Enter the operator ('+','-','/','*'): -\n",
            "Enter the second number: 21\n",
            "The difference of 12 and 21 is -9\n"
          ]
        }
      ]
    },
    {
      "cell_type": "code",
      "source": [
        "#String\n",
        "\n",
        "text = input(\" Enter a string : \")\n",
        "vowels = \"aeiouAEIOU\"\n",
        "count = 0\n",
        "\n",
        "for char in text:\n",
        "    if char in vowels:\n",
        "        count += 1\n",
        "\n",
        "print(f\"The number of vowels in the string is: {count}\")"
      ],
      "metadata": {
        "colab": {
          "base_uri": "https://localhost:8080/"
        },
        "id": "vQqHJdvdCD3G",
        "outputId": "97a08a57-a701-40de-e5e6-b8c9f734ff34"
      },
      "execution_count": 6,
      "outputs": [
        {
          "output_type": "stream",
          "name": "stdout",
          "text": [
            " Enter a string : Shaantanu \n",
            "The number of vowels in the string is: 4\n"
          ]
        }
      ]
    }
  ]
}